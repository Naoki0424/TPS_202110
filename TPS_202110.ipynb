{
  "nbformat": 4,
  "nbformat_minor": 0,
  "metadata": {
    "colab": {
      "name": "TPS_202110.ipynb",
      "provenance": [],
      "collapsed_sections": [
        "42vY70BMVIMw"
      ],
      "toc_visible": true,
      "authorship_tag": "ABX9TyOY7Eb/S3WsaW3xU8bsa8X/",
      "include_colab_link": true
    },
    "kernelspec": {
      "name": "python3",
      "display_name": "Python 3"
    },
    "language_info": {
      "name": "python"
    }
  },
  "cells": [
    {
      "cell_type": "markdown",
      "metadata": {
        "id": "view-in-github",
        "colab_type": "text"
      },
      "source": [
        "<a href=\"https://colab.research.google.com/github/Naoki0424/TPS_202110/blob/develop/TPS_202110.ipynb\" target=\"_parent\"><img src=\"https://colab.research.google.com/assets/colab-badge.svg\" alt=\"Open In Colab\"/></a>"
      ]
    },
    {
      "cell_type": "markdown",
      "metadata": {
        "id": "fAn_6AZFT-vj"
      },
      "source": [
        ""
      ]
    },
    {
      "cell_type": "markdown",
      "metadata": {
        "id": "CGby28efUI0H"
      },
      "source": [
        "# 1.Simple EDA"
      ]
    },
    {
      "cell_type": "markdown",
      "metadata": {
        "id": "42vY70BMVIMw"
      },
      "source": [
        "### Import Library"
      ]
    },
    {
      "cell_type": "code",
      "metadata": {
        "id": "7hlvWLmnVL2b"
      },
      "source": [
        "import numpy as np\n",
        "import pandas as pd\n",
        "import matplotlib as mpl\n",
        "import matplotlib.pyplot as plt\n",
        "import seaborn as sns "
      ],
      "execution_count": null,
      "outputs": []
    },
    {
      "cell_type": "code",
      "metadata": {
        "id": "XW625fX-VHPY"
      },
      "source": [
        "# matplotlib setting\n",
        "mpl.rcParams['figure.dpi'] = 200\n",
        "mpl.rcParams['axes.spines.top'] = False\n",
        "mpl.rcParams['axes.spines.right'] = False\n",
        "\n",
        "# pandas setting\n",
        "pd.set_option('display.max_rows', None)\n",
        "pd.set_option('display.max_columns', None)"
      ],
      "execution_count": null,
      "outputs": []
    },
    {
      "cell_type": "markdown",
      "metadata": {
        "id": "B5Vj7X01WJLm"
      },
      "source": [
        "### CSV読み込み"
      ]
    },
    {
      "cell_type": "code",
      "metadata": {
        "colab": {
          "base_uri": "https://localhost:8080/"
        },
        "id": "ciVY8kQ4VX2x",
        "outputId": "1eb474cb-b946-4687-cafa-c76755520433"
      },
      "source": [
        "from google.colab import drive\n",
        "\n",
        "drive.mount('/content/drive')"
      ],
      "execution_count": null,
      "outputs": [
        {
          "output_type": "stream",
          "name": "stdout",
          "text": [
            "Mounted at /content/drive\n"
          ]
        }
      ]
    },
    {
      "cell_type": "code",
      "metadata": {
        "id": "tXsPETtvWaoW"
      },
      "source": [
        "test= pd.read_csv('drive/My Drive/Colab Notebooks/TPS_202110/data/test.csv')\n",
        "train= pd.read_csv('drive/My Drive/Colab Notebooks/TPS_202110/data/train.csv')"
      ],
      "execution_count": null,
      "outputs": []
    },
    {
      "cell_type": "code",
      "metadata": {
        "id": "SLlLufAEYvaA"
      },
      "source": [
        ""
      ],
      "execution_count": null,
      "outputs": []
    }
  ]
}