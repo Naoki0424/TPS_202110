{
  "nbformat": 4,
  "nbformat_minor": 0,
  "metadata": {
    "colab": {
      "name": "tensorflow_decision_forests.ipynb",
      "private_outputs": true,
      "provenance": [],
      "collapsed_sections": [
        "PEpEbpLx69AE",
        "PEc9IBs0E3Nm",
        "XhXtaLq5Hljd",
        "PG7u3gP2HkEh",
        "i-z5HYA1IRQH"
      ],
      "toc_visible": true,
      "authorship_tag": "ABX9TyNknGFVsV3Hlx+72q84nN8h",
      "include_colab_link": true
    },
    "kernelspec": {
      "name": "python3",
      "display_name": "Python 3"
    },
    "language_info": {
      "name": "python"
    },
    "accelerator": "GPU"
  },
  "cells": [
    {
      "cell_type": "markdown",
      "metadata": {
        "id": "view-in-github",
        "colab_type": "text"
      },
      "source": [
        "<a href=\"https://colab.research.google.com/github/Naoki0424/TPS_202110/blob/develop/tensorflow_decision_forests.ipynb\" target=\"_parent\"><img src=\"https://colab.research.google.com/assets/colab-badge.svg\" alt=\"Open In Colab\"/></a>"
      ]
    },
    {
      "cell_type": "markdown",
      "metadata": {
        "id": "PEpEbpLx69AE"
      },
      "source": [
        "# Environmental Setting"
      ]
    },
    {
      "cell_type": "code",
      "metadata": {
        "id": "_kcwUmXh6ta4"
      },
      "source": [
        "!pip3 install tensorflow_decision_forests --upgrade"
      ],
      "execution_count": null,
      "outputs": []
    },
    {
      "cell_type": "code",
      "metadata": {
        "id": "ofgOe0jw8Iy9"
      },
      "source": [
        "!pip install wandb -qqq"
      ],
      "execution_count": null,
      "outputs": []
    },
    {
      "cell_type": "markdown",
      "metadata": {
        "id": "OP1hc5LT8Q4Y"
      },
      "source": [
        "# Library Import"
      ]
    },
    {
      "cell_type": "code",
      "metadata": {
        "id": "jpux8lbq8oX1"
      },
      "source": [
        "import os\n",
        "import wandb\n",
        "import logging\n",
        "import datetime\n",
        "import warnings\n",
        "import gc\n",
        "\n",
        "import numpy as np\n",
        "import pandas as pd\n",
        "\n",
        "\n",
        "from tqdm import tqdm_notebook\n",
        "import matplotlib.pyplot as plt\n",
        "import seaborn as sns\n",
        "color = sns.color_palette()\n",
        "%matplotlib inline\n",
        "\n",
        "import plotly.offline as py\n",
        "py.init_notebook_mode(connected=True)\n",
        "import plotly.graph_objs as go\n",
        "import plotly.tools as tls\n",
        "\n",
        "from sklearn.metrics import mean_squared_error\n",
        "from sklearn.metrics import roc_auc_score, roc_curve\n",
        "from sklearn.metrics import classification_report\n",
        "from sklearn.model_selection import StratifiedKFold\n",
        "from sklearn.model_selection import KFold\n",
        "from sklearn.model_selection import train_test_split\n",
        "\n",
        "warnings.filterwarnings('ignore')\n",
        "\n",
        "import tensorflow_decision_forests as tfdf\n",
        "\n",
        "sns.set_style('whitegrid')\n",
        "sns_params = {\"palette\": sns.color_palette([\"#2a9d8f\", \"#e9c46a\"])}"
      ],
      "execution_count": null,
      "outputs": []
    },
    {
      "cell_type": "markdown",
      "metadata": {
        "id": "PEc9IBs0E3Nm"
      },
      "source": [
        "# W&B Setting"
      ]
    },
    {
      "cell_type": "code",
      "metadata": {
        "id": "Y0t08DUbE7ZW"
      },
      "source": [
        "try:\n",
        "    from kaggle_secrets import UserSecretsClient\n",
        "    user_secrets = UserSecretsClient()\n",
        "    secret_value_0 = user_secrets.get_secret(\"api_key\")\n",
        "    wandb.login(key=secret_value_0)\n",
        "    anony=None\n",
        "except:\n",
        "    anony = \"must\"\n",
        "    print('If you want to use your W&B account, go to Add-ons -> Secrets and provide your W&B access token. Use the Label name as wandb_api. \\nGet your W&B access token from here: https://wandb.ai/authorize')\n",
        "    \n",
        "CONFIG = dict(competition = 'TPSOctober',_wandb_kernel = 'tensorgirl')"
      ],
      "execution_count": null,
      "outputs": []
    },
    {
      "cell_type": "code",
      "metadata": {
        "id": "OWm-p35sGtDh"
      },
      "source": [
        ""
      ],
      "execution_count": null,
      "outputs": []
    },
    {
      "cell_type": "markdown",
      "metadata": {
        "id": "XhXtaLq5Hljd"
      },
      "source": [
        "# Load Data"
      ]
    },
    {
      "cell_type": "code",
      "metadata": {
        "id": "b3X5V5dTH-Vw"
      },
      "source": [
        "from google.colab import drive\n",
        "\n",
        "drive.mount('/content/drive')"
      ],
      "execution_count": null,
      "outputs": []
    },
    {
      "cell_type": "code",
      "metadata": {
        "id": "2GN_dD8jHoME"
      },
      "source": [
        "test= pd.read_csv('drive/My Drive/Colab Notebooks/TPS_202110/data/test.csv', nrows = 3000)\n",
        "train= pd.read_csv('drive/My Drive/Colab Notebooks/TPS_202110/data/train.csv', nrows = 3000)"
      ],
      "execution_count": null,
      "outputs": []
    },
    {
      "cell_type": "code",
      "metadata": {
        "id": "ak_jY-DbHzk4"
      },
      "source": [
        "test.shape"
      ],
      "execution_count": null,
      "outputs": []
    },
    {
      "cell_type": "markdown",
      "metadata": {
        "id": "sbyHgmHvIoaP"
      },
      "source": [
        "# Observations\n",
        "\n",
        "There are no missing values in both train ans test dataset.\n",
        "The train consists of 1000000 data, and the test consists of 500000 data.\n",
        "The binary features are from f22, f43, f242~f284 and rest of the features are continuous .\n",
        "\n",
        "\n",
        "Source : https://www.kaggle.com/subinium/tps-oct-simple-eda"
      ]
    },
    {
      "cell_type": "code",
      "metadata": {
        "id": "2m0yBd52I-Hq"
      },
      "source": [
        "train.loc[:, 'f0':'f284'].describe().style.background_gradient(cmap='Pastel1')"
      ],
      "execution_count": null,
      "outputs": []
    },
    {
      "cell_type": "code",
      "metadata": {
        "id": "_7zdxLrOI-lE"
      },
      "source": [
        "plt.figure(figsize=(15, 7))\n",
        "sns.kdeplot(train[\"target\"] ,fill=True, color = \"#2a9d8f\")\n"
      ],
      "execution_count": null,
      "outputs": []
    },
    {
      "cell_type": "code",
      "metadata": {
        "id": "ovuQpY2IJa0E"
      },
      "source": [
        "plt.figure(figsize=(15, 7))\n",
        "plt.pie([508,492], labels = [\"0\" , \"1\"],autopct='%1.1f%%',colors = [\"#2a9d8f\", \"#e9c46a\"])"
      ],
      "execution_count": null,
      "outputs": []
    },
    {
      "cell_type": "code",
      "metadata": {
        "id": "7cGE10lvKFIU"
      },
      "source": [
        "#code copied from https://www.kaggle.com/subinium/tps-oct-simple-eda\n",
        "\n",
        "fig, axes = plt.subplots(11,11,figsize=(12, 12))\n",
        "axes = axes.flatten()\n",
        "sns.set_palette(sns.color_palette([\"#2a9d8f\", \"#e9c46a\"]))\n",
        "\n",
        "for idx, ax in enumerate(axes):\n",
        "    sns.kdeplot(data=train, x=f'f{idx}',ax=ax,palette = [\"#2a9d8f\"])\n",
        "    ax.set_xticks([])\n",
        "    ax.set_yticks([])\n",
        "    ax.set_xlabel('')\n",
        "    ax.set_ylabel('')\n",
        "    ax.spines['left'].set_visible(False)\n",
        "    ax.set_title(f'f{idx}', loc='right', weight='bold', fontsize=10)\n",
        "\n",
        "# fig.supxlabel('Average by class (by feature f0-f120)', ha='center', fontweight='bold')\n",
        "\n",
        "fig.tight_layout()\n",
        "plt.show()"
      ],
      "execution_count": null,
      "outputs": []
    },
    {
      "cell_type": "code",
      "metadata": {
        "id": "cfzzHMs9Kazb"
      },
      "source": [
        "#code copied from https://www.kaggle.com/craigmthomas/tps-oct-2021-eda\n",
        "\n",
        "cat_features = [\"f22\", \"f43\"]\n",
        "cat_features.extend([\"f{}\".format(x) for x in range(242, 285)])\n",
        "\n",
        "fig, axs = plt.subplots(11, 4, figsize=(4*4, 11*3), squeeze=False, sharey=True)\n",
        "\n",
        "ptr = 0\n",
        "for row in range(11):\n",
        "    for col in range(4):  \n",
        "        x = train[[cat_features[ptr], \"target\"]].value_counts().sort_index().to_frame().rename({0: \"# of Samples\"}, axis=\"columns\").reset_index()\n",
        "        sns.barplot(x=cat_features[ptr], y=\"# of Samples\", hue=\"target\", data=x, ax=axs[row][col], **sns_params)\n",
        "        plt.xlabel(cat_features[ptr])\n",
        "        ptr += 1\n",
        "        del(x)\n",
        "plt.tight_layout()    \n",
        "plt.show()\n",
        "\n",
        "_ = gc.collect()"
      ],
      "execution_count": null,
      "outputs": []
    },
    {
      "cell_type": "code",
      "metadata": {
        "id": "cRoUwOpiK5Kh"
      },
      "source": [
        ""
      ],
      "execution_count": null,
      "outputs": []
    },
    {
      "cell_type": "markdown",
      "metadata": {
        "id": "PG7u3gP2HkEh"
      },
      "source": [
        "# W & B Artifacts"
      ]
    },
    {
      "cell_type": "code",
      "metadata": {
        "id": "dmHl67GbHlHw"
      },
      "source": [
        "# Save train data to W&B Artifacts\n",
        "# run = wandb.init(project='TPSOctober', name='training_data', anonymous=anony,config=CONFIG) \n",
        "# artifact = wandb.Artifact(name='training_data',type='dataset')\n",
        "# artifact.add_file(\"drive/My Drive/Colab Notebooks/TPS_202110/data/train.csv\")\n",
        "\n",
        "# wandb.log_artifact(artifact)\n",
        "# wandb.finish()"
      ],
      "execution_count": null,
      "outputs": []
    },
    {
      "cell_type": "code",
      "metadata": {
        "id": "wq7aDE_uHnzM"
      },
      "source": [
        ""
      ],
      "execution_count": null,
      "outputs": []
    },
    {
      "cell_type": "markdown",
      "metadata": {
        "id": "i-z5HYA1IRQH"
      },
      "source": [
        "# Logging to W & B environment"
      ]
    },
    {
      "cell_type": "code",
      "metadata": {
        "id": "0kwnlKp8ISBd"
      },
      "source": [
        "# Log Plots to W&B environment\n",
        "title = \"Distribution of Target Feature\"\n",
        "run = wandb.init(project='TPSOctober', name=title,anonymous=anony,config=CONFIG)\n",
        "fig = sns.kdeplot(train[\"target\"] , color = \"#E4916C\")\n",
        "wandb.log({\"Distribution of Target Feature\": fig})\n",
        "wandb.finish()"
      ],
      "execution_count": null,
      "outputs": []
    },
    {
      "cell_type": "code",
      "metadata": {
        "id": "gOHPc_KNIUzj"
      },
      "source": [
        ""
      ],
      "execution_count": null,
      "outputs": []
    },
    {
      "cell_type": "markdown",
      "metadata": {
        "id": "44wgVSJ6JJZp"
      },
      "source": [
        "# Tensorflow Decision Forests"
      ]
    },
    {
      "cell_type": "code",
      "metadata": {
        "id": "380rW84DNNxi"
      },
      "source": [
        "# 訓練データを訓練_訓練データと訓練_テストデータに分割する\n",
        "\n",
        "# データ確認\n",
        "# train.head(1)\n",
        "\n",
        "# 列数取得\n",
        "print('列数：{}'.format(len(train.columns)))\n",
        "\n",
        "# 目的変数取得\n",
        "y = train['target']\n",
        "# 説明変数取得\n",
        "X = train.iloc[:, 0:286]\n",
        "\n",
        "# 分割\n",
        "X_train, X_test, y_train, y_test = train_test_split(X, y, test_size=0.3, random_state=111)"
      ],
      "execution_count": null,
      "outputs": []
    },
    {
      "cell_type": "code",
      "metadata": {
        "id": "YstJ0kYwPyAH"
      },
      "source": [
        "# 件数確認\n",
        "print('列数：{}'.format(len(X_train.columns)))\n",
        "print('列数：{}'.format(len(y_train.shape)))\n",
        "\n",
        "# pd.concat([X_train, y_train], axis=1)"
      ],
      "execution_count": null,
      "outputs": []
    },
    {
      "cell_type": "code",
      "metadata": {
        "id": "niS5T3xWPSvv"
      },
      "source": [
        "# 訓練データ\n",
        "train_ds = tfdf.keras.pd_dataframe_to_tf_dataset(pd.concat([X_train, y_train], axis=1), label=\"target\")\n",
        "# テストデータ\n",
        "test_ds = tfdf.keras.pd_dataframe_to_tf_dataset(X_test)\n",
        "\n",
        "# モデル作成\n",
        "model = tfdf.keras.RandomForestModel()\n",
        "# 学習\n",
        "model.fit(train_ds)\n",
        "\n",
        "# 予測\n",
        "output = model.predict(test_ds)"
      ],
      "execution_count": null,
      "outputs": []
    },
    {
      "cell_type": "code",
      "metadata": {
        "id": "nP1Mw1UeZULl"
      },
      "source": [
        "# np.round(output).astype('int')"
      ],
      "execution_count": null,
      "outputs": []
    },
    {
      "cell_type": "code",
      "metadata": {
        "id": "TIIZm29sS6Rk"
      },
      "source": [
        "# print(type(output))\n",
        "# print(type(y_test))\n",
        "# print(np.round(output).astype('int').dtype)\n",
        "# print(y_test.dtypes)\n",
        "\n",
        "# どれくらい正解したか確認\n",
        "print(classification_report(np.round(output).astype('int'), y_test))"
      ],
      "execution_count": null,
      "outputs": []
    },
    {
      "cell_type": "code",
      "metadata": {
        "id": "vx-oXFqZJKRf"
      },
      "source": [
        ""
      ],
      "execution_count": null,
      "outputs": []
    },
    {
      "cell_type": "code",
      "metadata": {
        "id": "Qw5HGSjDJVLV"
      },
      "source": [
        "sns.histplot(pd.DataFrame(output),legend = False)"
      ],
      "execution_count": null,
      "outputs": []
    }
  ]
}